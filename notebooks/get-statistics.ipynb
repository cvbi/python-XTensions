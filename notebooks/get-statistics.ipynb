{
 "cells": [
  {
   "cell_type": "markdown",
   "metadata": {},
   "source": [
    "## Load libraries"
   ]
  },
  {
   "cell_type": "code",
   "execution_count": 1,
   "metadata": {},
   "outputs": [
    {
     "name": "stdout",
     "output_type": "stream",
     "text": [
      "Populating the interactive namespace from numpy and matplotlib\n"
     ]
    }
   ],
   "source": [
    "%pylab inline\n",
    "\n",
    "import pandas as pd\n",
    "from tqdm import tqdm"
   ]
  },
  {
   "cell_type": "code",
   "execution_count": 2,
   "metadata": {},
   "outputs": [],
   "source": [
    "import os"
   ]
  },
  {
   "cell_type": "code",
   "execution_count": 3,
   "metadata": {},
   "outputs": [],
   "source": [
    "from cvbi.base_imaris.objects import GetSurpassObjects"
   ]
  },
  {
   "cell_type": "markdown",
   "metadata": {},
   "source": [
    "#### Give Object Type"
   ]
  },
  {
   "cell_type": "code",
   "execution_count": 4,
   "metadata": {},
   "outputs": [],
   "source": [
    "import ImarisLib "
   ]
  },
  {
   "cell_type": "code",
   "execution_count": 5,
   "metadata": {},
   "outputs": [],
   "source": [
    "def GetObjectId():\n",
    "    \n",
    "    \n",
    "    vImarisLib = ImarisLib.ImarisLib()\n",
    "    vServer = vImarisLib.GetServer()\n",
    "    vNumberOfObjects = vServer.GetNumberOfObjects()\n",
    "    \n",
    "    for vIndex in range(vNumberOfObjects):\n",
    "        vObjectId = vServer.GetObjectID(vIndex)\n",
    "        return vObjectId; # work with the ID (return first one)\n",
    "    \n",
    "    return -1 # invalid id"
   ]
  },
  {
   "cell_type": "code",
   "execution_count": 6,
   "metadata": {},
   "outputs": [],
   "source": [
    "aImarisId = GetObjectId()\n",
    "vImarisLib = ImarisLib.ImarisLib()\n",
    "vImaris = vImarisLib.GetApplication(aImarisId)\n",
    "vDataSet = vImaris.GetDataSet()"
   ]
  },
  {
   "cell_type": "code",
   "execution_count": 7,
   "metadata": {},
   "outputs": [],
   "source": [
    "imaris_file = vImaris.GetCurrentFileName()\n",
    "imaris_dir = os.path.dirname(imaris_file)\n",
    "imaris_name = os.path.basename(imaris_file)"
   ]
  },
  {
   "cell_type": "code",
   "execution_count": 8,
   "metadata": {},
   "outputs": [],
   "source": [
    "object_type = 'surfaces'\n",
    "object_name = 'Th1'"
   ]
  },
  {
   "cell_type": "markdown",
   "metadata": {},
   "source": [
    "## Get cell stats"
   ]
  },
  {
   "cell_type": "code",
   "execution_count": 209,
   "metadata": {},
   "outputs": [],
   "source": [
    "def get_statistics_cell(vImaris , object_type , object_name):\n",
    "\n",
    "    \"\"\"\n",
    "    Get All statistics from Imaris for a particular object type in current session.\n",
    "    Input :\n",
    "\n",
    "    import ImarisLib\n",
    "    from cvbi.base_imaris.connection_helpers import GetObjectId\n",
    "\n",
    "    vImarisLib = ImarisLib.ImarisLib()\n",
    "    aImarisId = GetObjectId()\n",
    "    vImaris = vImarisLib.GetApplication(aImarisId)\n",
    "\n",
    "    df = get_imaris_statistics(vImaris = vImaris, object_type = 'surfaces', object_name = 'Th1')\n",
    "\n",
    "    \"\"\"\n",
    "\n",
    "    objects = GetSurpassObjects(vImaris=vImaris, search=object_type)\n",
    "    object_cells = objects[object_name]\n",
    "    object_cell_stats = object_cells.GetStatistics()\n",
    "\n",
    "    # Get individual cell IDs and track IDs to create set of edges which form a track\n",
    "\n",
    "    cells = object_cells.GetIds()\n",
    "    tracks = object_cells.GetTrackIds()\n",
    "    edges_indices = object_cells.GetTrackEdges()\n",
    "    edges = [[str(cells[start]),str(cells[stop])] for [start, stop] in edges_indices]\n",
    "\n",
    "    track_cell_mapping = {}\n",
    "    for trackID, (start, stop) in zip(tracks, edges_indices):\n",
    "\n",
    "        start = cells[start]\n",
    "        stop = cells[stop]\n",
    "\n",
    "        track_cell_mapping[str(start)] = str(trackID)\n",
    "        track_cell_mapping[str(stop)] = str(trackID)\n",
    "\n",
    "    track_cell_mapping_df = pd.DataFrame.from_dict(track_cell_mapping, orient='index')\n",
    "    track_cell_mapping_df.reset_index(inplace=True)\n",
    "    track_cell_mapping_df.columns = ['objectID', 'trackID']\n",
    "\n",
    "    stats_df = pd.DataFrame({'objectID': [str(objectID) for objectID in object_cell_stats.mIds],\n",
    "                             'names': object_cell_stats.mNames,\n",
    "                             'values': object_cell_stats.mValues})\n",
    "\n",
    "    stats_track_df = pd.merge(left=track_cell_mapping_df,\n",
    "                              right=stats_df,\n",
    "                              how='inner')\n",
    "\n",
    "    stats_pivot = stats_track_df.pivot_table(index=['trackID', 'objectID'],\n",
    "                                             columns='names',\n",
    "                                             values='values')\n",
    "    stats_pivot_df = stats_pivot.reset_index()\n",
    "    stats_pivot_df['time'] = stats_pivot_df.loc[:, 'Time Index'].values\n",
    "    stats_pivot_df['track_time'] = stats_pivot_df.loc[:, 'Time Since Track Start'].values\n",
    "\n",
    "    return(stats_pivot_df)"
   ]
  },
  {
   "cell_type": "code",
   "execution_count": 210,
   "metadata": {},
   "outputs": [],
   "source": [
    "all_stats_cells = get_statistics_cell(vImaris=vImaris, object_type=object_type, object_name=object_name)"
   ]
  },
  {
   "cell_type": "markdown",
   "metadata": {},
   "source": [
    "## Get track stats"
   ]
  },
  {
   "cell_type": "code",
   "execution_count": 214,
   "metadata": {},
   "outputs": [],
   "source": [
    "def get_track_statistics(vImaris, object_type, object_name):\n",
    "\n",
    "    objects = GetSurpassObjects(vImaris=vImaris, search=object_type)\n",
    "    object_cells = objects[object_name]\n",
    "    object_cell_stats = object_cells.GetStatistics()\n",
    "\n",
    "    data_list = [[objectID,name,unit,value] for objectID,name,unit,value in zip(object_cell_stats.mIds,\n",
    "                                                                                object_cell_stats.mNames,\n",
    "                                                                                object_cell_stats.mUnits,\n",
    "                                                                                object_cell_stats.mValues) if (objectID>100000)]\n",
    "    data_df_long = pd.DataFrame(data_list,columns=['trackID','colname','unit','values'])\n",
    "    data_df_wide = data_df_long.pivot_table(index='trackID',columns='colname').loc[:,'values'].reset_index(col_level=1)\n",
    "\n",
    "    return( [ data_df_long, data_df_wide ] )"
   ]
  },
  {
   "cell_type": "code",
   "execution_count": 215,
   "metadata": {},
   "outputs": [],
   "source": [
    "objects = GetSurpassObjects(vImaris=vImaris, search=object_type)\n",
    "object_cells = objects['Th1']\n",
    "object_cell_stats = object_cells.GetStatistics()\n",
    "\n",
    "condition = [name[:5]=='Track' for name in object_cell_stats.mNames]\n",
    "\n",
    "data_list = [[objectID,name,unit,value] for objectID,name,unit,value in zip(object_cell_stats.mIds,\n",
    "                                                                            object_cell_stats.mNames,\n",
    "                                                                            object_cell_stats.mUnits,\n",
    "                                                                            object_cell_stats.mValues) if (objectID>100000)]\n",
    "data_df_long = pd.DataFrame(data_list,columns=['trackID','colname','unit','values'])\n",
    "data_df_wide = data_df_long.pivot_table(index='trackID',columns='colname').loc[:,'values'].reset_index(col_level=1)"
   ]
  },
  {
   "cell_type": "code",
   "execution_count": 216,
   "metadata": {},
   "outputs": [],
   "source": [
    "data_df_long,data_df_wide = get_track_statistics(vImaris=vImaris, object_type=object_type, object_name=object_name)"
   ]
  },
  {
   "cell_type": "code",
   "execution_count": 145,
   "metadata": {},
   "outputs": [],
   "source": [
    "data_df_wide.to_csv('./sample.csv', index=False)"
   ]
  }
 ],
 "metadata": {
  "kernelspec": {
   "display_name": "Python27",
   "language": "python",
   "name": "python27"
  },
  "language_info": {
   "codemirror_mode": {
    "name": "ipython",
    "version": 2
   },
   "file_extension": ".py",
   "mimetype": "text/x-python",
   "name": "python",
   "nbconvert_exporter": "python",
   "pygments_lexer": "ipython2",
   "version": "2.7.15"
  }
 },
 "nbformat": 4,
 "nbformat_minor": 2
}
