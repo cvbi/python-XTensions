{
 "cells": [
  {
   "cell_type": "code",
   "execution_count": 1,
   "metadata": {},
   "outputs": [
    {
     "name": "stdout",
     "output_type": "stream",
     "text": [
      "Populating the interactive namespace from numpy and matplotlib\n"
     ]
    }
   ],
   "source": [
    "%pylab inline\n",
    "\n",
    "import numpy as np\n",
    "import pandas as pd\n",
    "from tqdm import tqdm_notebook\n",
    "from mpl_toolkits.mplot3d import axes3d"
   ]
  },
  {
   "cell_type": "code",
   "execution_count": null,
   "metadata": {},
   "outputs": [],
   "source": [
    "a,b,c = 1"
   ]
  },
  {
   "cell_type": "code",
   "execution_count": 2,
   "metadata": {},
   "outputs": [],
   "source": [
    "import os\n",
    "from time import time\n",
    "from itertools import product, cycle"
   ]
  },
  {
   "cell_type": "code",
   "execution_count": 3,
   "metadata": {},
   "outputs": [],
   "source": [
    "import ImarisLib"
   ]
  },
  {
   "cell_type": "code",
   "execution_count": 4,
   "metadata": {},
   "outputs": [],
   "source": [
    "from cvbi.base_imaris.objects import GetSurpassObjects\n",
    "from cvbi.base_imaris.stats import get_imaris_statistics"
   ]
  },
  {
   "cell_type": "code",
   "execution_count": 5,
   "metadata": {},
   "outputs": [],
   "source": [
    "from sklearn.preprocessing import minmax_scale"
   ]
  },
  {
   "cell_type": "code",
   "execution_count": 6,
   "metadata": {},
   "outputs": [],
   "source": [
    "def GetObjectId():\n",
    "    \n",
    "    \n",
    "    vImarisLib = ImarisLib.ImarisLib()\n",
    "    vServer = vImarisLib.GetServer()\n",
    "    vNumberOfObjects = vServer.GetNumberOfObjects()\n",
    "    \n",
    "    for vIndex in range(vNumberOfObjects):\n",
    "        vObjectId = vServer.GetObjectID(vIndex)\n",
    "        return vObjectId; # work with the ID (return first one)\n",
    "    \n",
    "    return -1 # invalid id"
   ]
  },
  {
   "cell_type": "code",
   "execution_count": 7,
   "metadata": {},
   "outputs": [],
   "source": [
    "from sklearn.externals import joblib\n",
    "from sklearn.cluster import DBSCAN\n",
    "\n",
    "\n",
    "def dbscan_predict(model, X):\n",
    "    \"\"\"\n",
    "    Predict using dbscan\n",
    "\n",
    "    :param model: trained dbscan object model from scikit learn\n",
    "    :param X: New dataset to predict for, the shape should be the same as training data\n",
    "    :return: numpy vector of predicted class\n",
    "    \"\"\"\n",
    "    nr_samples = X.shape[0]\n",
    "\n",
    "    y_new = np.ones(shape=nr_samples, dtype=int) * -1\n",
    "\n",
    "    for i in range(nr_samples):\n",
    "        diff = model.components_ - X[i, :]  # NumPy broadcasting\n",
    "\n",
    "        dist = np.linalg.norm(diff, axis=1)  # Euclidean distance\n",
    "\n",
    "        shortest_dist_idx = np.argmin(dist)\n",
    "\n",
    "        if dist[shortest_dist_idx] < model.eps:\n",
    "            y_new[i] = model.labels_[model.core_sample_indices_[shortest_dist_idx]]\n",
    "\n",
    "    return(y_new)"
   ]
  },
  {
   "cell_type": "code",
   "execution_count": 8,
   "metadata": {},
   "outputs": [],
   "source": [
    "aImarisId = GetObjectId()\n",
    "vImarisLib = ImarisLib.ImarisLib()\n",
    "vImaris = vImarisLib.GetApplication(aImarisId)\n",
    "vDataSet = vImaris.GetDataSet()"
   ]
  },
  {
   "cell_type": "code",
   "execution_count": 9,
   "metadata": {},
   "outputs": [
    {
     "data": {
      "text/plain": [
       "('D:\\\\Box Sync\\\\Deb_Hen_Nilesh\\\\surfaces\\\\WT Th1 in OVA\\\\111717\\\\111717 REX3 CFA-OVA d5 OT-II Th1_f1_02_.ims',\n",
       " 'D:\\\\Box Sync\\\\Deb_Hen_Nilesh\\\\surfaces\\\\WT Th1 in OVA\\\\111717',\n",
       " '111717 REX3 CFA-OVA d5 OT-II Th1_f1_02_.ims')"
      ]
     },
     "execution_count": 9,
     "metadata": {},
     "output_type": "execute_result"
    }
   ],
   "source": [
    "imaris_file = vImaris.GetCurrentFileName()\n",
    "imaris_dir  = os.path.dirname(imaris_file)\n",
    "imaris_name = os.path.basename(imaris_file)\n",
    "\n",
    "imaris_file,imaris_dir,imaris_name"
   ]
  },
  {
   "cell_type": "markdown",
   "metadata": {},
   "source": [
    "## Get Volume Data"
   ]
  },
  {
   "cell_type": "code",
   "execution_count": 10,
   "metadata": {},
   "outputs": [],
   "source": [
    "nX = vDataSet.GetSizeX()\n",
    "nY = vDataSet.GetSizeY()\n",
    "nZ = vDataSet.GetSizeZ()\n",
    "nC = vDataSet.GetSizeC()\n",
    "nT = vDataSet.GetSizeT()"
   ]
  },
  {
   "cell_type": "code",
   "execution_count": 11,
   "metadata": {},
   "outputs": [
    {
     "name": "stderr",
     "output_type": "stream",
     "text": [
      "C:\\Users\\npatil4\\Anaconda\\envs\\python27\\lib\\site-packages\\sklearn\\base.py:251: UserWarning: Trying to unpickle estimator DBSCAN from version 0.20.1 when using version 0.20.2. This might lead to breaking code or invalid results. Use at your own risk.\n",
      "  UserWarning)\n"
     ]
    }
   ],
   "source": [
    "model_path = 'D:/Box Sync/Deb_Hen_Nilesh/surfaces/WT Th1 in OVA/111717/stats/111717 REX3 CFA-OVA d5 OT-II Th1_f1_02_.ims_CXCL10 cells_model.joblib'\n",
    "db = joblib.load(model_path)"
   ]
  },
  {
   "cell_type": "code",
   "execution_count": 12,
   "metadata": {},
   "outputs": [],
   "source": [
    "x_min,x_max = vDataSet.GetExtendMinX(),vDataSet.GetExtendMaxX()\n",
    "y_min,y_max = vDataSet.GetExtendMinY(),vDataSet.GetExtendMaxY()\n",
    "z_min,z_max = vDataSet.GetExtendMinZ(),vDataSet.GetExtendMaxZ()"
   ]
  },
  {
   "cell_type": "code",
   "execution_count": 13,
   "metadata": {},
   "outputs": [],
   "source": [
    "x = np.arange(nX)\n",
    "y = np.arange(nY)\n",
    "z = np.arange(nZ)\n",
    "\n",
    "X_all = np.array([[xi,yi,zi] for xi,yi,zi in product(x,y,z)])\n",
    "X = X_all.copy()"
   ]
  },
  {
   "cell_type": "code",
   "execution_count": 14,
   "metadata": {},
   "outputs": [],
   "source": [
    "Xs_index = X[:,0]\n",
    "Ys_index = X[:,1]\n",
    "Zs_index = X[:,2]\n",
    "\n",
    "Xs_coords = minmax_scale(Xs_index.astype(np.float64),feature_range=(x_min,x_max))\n",
    "Ys_coords = minmax_scale(Ys_index.astype(np.float64),feature_range=(y_min,y_max))\n",
    "Zs_coords = minmax_scale(Zs_index.astype(np.float64),feature_range=(z_min,z_max))\n",
    "pos_data = np.array([Xs_coords, Ys_coords, Zs_coords]).T"
   ]
  },
  {
   "cell_type": "code",
   "execution_count": 15,
   "metadata": {},
   "outputs": [],
   "source": [
    "labels = dbscan_predict(db, X)"
   ]
  },
  {
   "cell_type": "code",
   "execution_count": 18,
   "metadata": {},
   "outputs": [],
   "source": [
    "unique_labels,unique_label_counts = np.unique(ar=labels, return_counts=True)"
   ]
  },
  {
   "cell_type": "markdown",
   "metadata": {},
   "source": [
    "colors = [plt.cm.Spectral(each) for each in np.linspace(0, 1, len(unique_labels))]\n",
    "subset = labels!=-1\n",
    "\n",
    "fig = plt.figure(figsize=(8,8),dpi=200)\n",
    "ax = fig.add_subplot(1, 1, 1, projection='3d')\n",
    "ax.grid(False); \n",
    "ax.xaxis.pane.fill =  ax.yaxis.pane.fill =  ax.zaxis.pane.fill = False\n",
    "ax.scatter3D(xs = X[subset,0],\n",
    "             ys = X[subset,1],\n",
    "             zs = X[subset,2], \n",
    "             c = [colors[label] for label in labels[subset]],\n",
    "             alpha=0.09, lw=0, s=10);\n",
    "\n",
    "ax.set_xlim3d(0, 512)\n",
    "ax.set_ylim3d(0, 512)\n",
    "#ax.set_zlim3d(0, 60)\n",
    "ax.view_init(elev=75, azim=-90);"
   ]
  },
  {
   "cell_type": "markdown",
   "metadata": {},
   "source": [
    "#### Label one timepoint"
   ]
  },
  {
   "cell_type": "code",
   "execution_count": 28,
   "metadata": {},
   "outputs": [
    {
     "data": {
      "text/plain": [
       "HBox(children=(IntProgress(value=0, max=5505024), HTML(value=u'')))"
      ]
     },
     "metadata": {},
     "output_type": "display_data"
    }
   ],
   "source": [
    "data_list = vDataSet.GetDataVolumeFloats(aIndexC=1, aIndexT=0)\n",
    "data_array = np.array(data_list)\n",
    "\n",
    "data_out = np.zeros_like(data_array)\n",
    "\n",
    "for i in tqdm_notebook(range(X.shape[0])):\n",
    "    xi,yi,zi = X[i]\n",
    "    \n",
    "    if labels[i]!=-1:\n",
    "        data_out[xi,yi,zi] = data_array[xi,yi,zi]\n",
    "    \n",
    "data_out_list = data_out.tolist()"
   ]
  },
  {
   "cell_type": "code",
   "execution_count": 16,
   "metadata": {},
   "outputs": [],
   "source": [
    "vDataSet.SetSizeC(nC+1)"
   ]
  },
  {
   "cell_type": "code",
   "execution_count": 17,
   "metadata": {},
   "outputs": [
    {
     "data": {
      "text/plain": [
       "HBox(children=(IntProgress(value=0, max=24), HTML(value=u'')))"
      ]
     },
     "metadata": {},
     "output_type": "display_data"
    },
    {
     "data": {
      "text/plain": [
       "HBox(children=(IntProgress(value=0, max=5505024), HTML(value=u'')))"
      ]
     },
     "metadata": {},
     "output_type": "display_data"
    },
    {
     "data": {
      "text/plain": [
       "HBox(children=(IntProgress(value=0, max=5505024), HTML(value=u'')))"
      ]
     },
     "metadata": {},
     "output_type": "display_data"
    },
    {
     "data": {
      "text/plain": [
       "HBox(children=(IntProgress(value=0, max=5505024), HTML(value=u'')))"
      ]
     },
     "metadata": {},
     "output_type": "display_data"
    },
    {
     "data": {
      "text/plain": [
       "HBox(children=(IntProgress(value=0, max=5505024), HTML(value=u'')))"
      ]
     },
     "metadata": {},
     "output_type": "display_data"
    },
    {
     "data": {
      "text/plain": [
       "HBox(children=(IntProgress(value=0, max=5505024), HTML(value=u'')))"
      ]
     },
     "metadata": {},
     "output_type": "display_data"
    },
    {
     "data": {
      "text/plain": [
       "HBox(children=(IntProgress(value=0, max=5505024), HTML(value=u'')))"
      ]
     },
     "metadata": {},
     "output_type": "display_data"
    },
    {
     "data": {
      "text/plain": [
       "HBox(children=(IntProgress(value=0, max=5505024), HTML(value=u'')))"
      ]
     },
     "metadata": {},
     "output_type": "display_data"
    },
    {
     "data": {
      "text/plain": [
       "HBox(children=(IntProgress(value=0, max=5505024), HTML(value=u'')))"
      ]
     },
     "metadata": {},
     "output_type": "display_data"
    },
    {
     "data": {
      "text/plain": [
       "HBox(children=(IntProgress(value=0, max=5505024), HTML(value=u'')))"
      ]
     },
     "metadata": {},
     "output_type": "display_data"
    },
    {
     "data": {
      "text/plain": [
       "HBox(children=(IntProgress(value=0, max=5505024), HTML(value=u'')))"
      ]
     },
     "metadata": {},
     "output_type": "display_data"
    },
    {
     "data": {
      "text/plain": [
       "HBox(children=(IntProgress(value=0, max=5505024), HTML(value=u'')))"
      ]
     },
     "metadata": {},
     "output_type": "display_data"
    },
    {
     "data": {
      "text/plain": [
       "HBox(children=(IntProgress(value=0, max=5505024), HTML(value=u'')))"
      ]
     },
     "metadata": {},
     "output_type": "display_data"
    },
    {
     "data": {
      "text/plain": [
       "HBox(children=(IntProgress(value=0, max=5505024), HTML(value=u'')))"
      ]
     },
     "metadata": {},
     "output_type": "display_data"
    },
    {
     "data": {
      "text/plain": [
       "HBox(children=(IntProgress(value=0, max=5505024), HTML(value=u'')))"
      ]
     },
     "metadata": {},
     "output_type": "display_data"
    },
    {
     "data": {
      "text/plain": [
       "HBox(children=(IntProgress(value=0, max=5505024), HTML(value=u'')))"
      ]
     },
     "metadata": {},
     "output_type": "display_data"
    },
    {
     "data": {
      "text/plain": [
       "HBox(children=(IntProgress(value=0, max=5505024), HTML(value=u'')))"
      ]
     },
     "metadata": {},
     "output_type": "display_data"
    },
    {
     "data": {
      "text/plain": [
       "HBox(children=(IntProgress(value=0, max=5505024), HTML(value=u'')))"
      ]
     },
     "metadata": {},
     "output_type": "display_data"
    },
    {
     "data": {
      "text/plain": [
       "HBox(children=(IntProgress(value=0, max=5505024), HTML(value=u'')))"
      ]
     },
     "metadata": {},
     "output_type": "display_data"
    },
    {
     "data": {
      "text/plain": [
       "HBox(children=(IntProgress(value=0, max=5505024), HTML(value=u'')))"
      ]
     },
     "metadata": {},
     "output_type": "display_data"
    },
    {
     "data": {
      "text/plain": [
       "HBox(children=(IntProgress(value=0, max=5505024), HTML(value=u'')))"
      ]
     },
     "metadata": {},
     "output_type": "display_data"
    },
    {
     "data": {
      "text/plain": [
       "HBox(children=(IntProgress(value=0, max=5505024), HTML(value=u'')))"
      ]
     },
     "metadata": {},
     "output_type": "display_data"
    },
    {
     "data": {
      "text/plain": [
       "HBox(children=(IntProgress(value=0, max=5505024), HTML(value=u'')))"
      ]
     },
     "metadata": {},
     "output_type": "display_data"
    },
    {
     "data": {
      "text/plain": [
       "HBox(children=(IntProgress(value=0, max=5505024), HTML(value=u'')))"
      ]
     },
     "metadata": {},
     "output_type": "display_data"
    },
    {
     "data": {
      "text/plain": [
       "HBox(children=(IntProgress(value=0, max=5505024), HTML(value=u'')))"
      ]
     },
     "metadata": {},
     "output_type": "display_data"
    },
    {
     "name": "stdout",
     "output_type": "stream",
     "text": [
      "\n"
     ]
    }
   ],
   "source": [
    "for ti in tqdm_notebook(range(nT)):\n",
    "    \n",
    "    data_list = vDataSet.GetDataVolumeFloats(aIndexC=1, aIndexT=ti)\n",
    "    data_array = np.array(data_list)\n",
    "    data_out = np.zeros_like(data_array)\n",
    "    \n",
    "    for i in tqdm_notebook(range(X.shape[0])):\n",
    "        xi,yi,zi = X[i]\n",
    "        if labels[i]!=-1:\n",
    "            data_out[xi,yi,zi] = data_array[xi,yi,zi]\n",
    "\n",
    "    data_out_list = data_out.tolist()\n",
    "    vDataSet.SetDataVolumeFloats(aData=data_out_list, aIndexC=nC, aIndexT=ti)"
   ]
  }
 ],
 "metadata": {
  "kernelspec": {
   "display_name": "Python27",
   "language": "python",
   "name": "python27"
  },
  "language_info": {
   "codemirror_mode": {
    "name": "ipython",
    "version": 2
   },
   "file_extension": ".py",
   "mimetype": "text/x-python",
   "name": "python",
   "nbconvert_exporter": "python",
   "pygments_lexer": "ipython2",
   "version": "2.7.15"
  }
 },
 "nbformat": 4,
 "nbformat_minor": 2
}
