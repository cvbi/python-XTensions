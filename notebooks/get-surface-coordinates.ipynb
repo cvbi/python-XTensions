{
 "cells": [
  {
   "cell_type": "code",
   "execution_count": 1,
   "metadata": {},
   "outputs": [
    {
     "name": "stdout",
     "output_type": "stream",
     "text": [
      "Populating the interactive namespace from numpy and matplotlib\n"
     ]
    }
   ],
   "source": [
    "%pylab inline"
   ]
  },
  {
   "cell_type": "code",
   "execution_count": 2,
   "metadata": {},
   "outputs": [],
   "source": [
    "import ImarisLib"
   ]
  },
  {
   "cell_type": "code",
   "execution_count": 20,
   "metadata": {},
   "outputs": [
    {
     "data": {
      "text/plain": [
       "{0L: 'C:\\\\ProgramData\\\\Bitplane\\\\DataStorage\\\\CFAOVAD3 FNAF488 CD31 AF647 Th1 CMTMR_A01_G009_0001_7.ims',\n",
       " 2L: 'C:\\\\ProgramData\\\\Bitplane\\\\DataStorage\\\\Data for protrusion analysis_3.ims'}"
      ]
     },
     "execution_count": 20,
     "metadata": {},
     "output_type": "execute_result"
    }
   ],
   "source": [
    "from cvbi.base_imaris.connection_helpers import get_all_objectIDs\n",
    "\n",
    "get_all_objectIDs()"
   ]
  },
  {
   "cell_type": "code",
   "execution_count": 5,
   "metadata": {},
   "outputs": [],
   "source": [
    "aImarisId = 2L\n",
    "vImarisLib = ImarisLib.ImarisLib()\n",
    "vImaris = vImarisLib.GetApplication(aImarisId)\n",
    "vDataSet = vImaris.GetDataSet()"
   ]
  },
  {
   "cell_type": "code",
   "execution_count": 7,
   "metadata": {},
   "outputs": [
    {
     "data": {
      "text/plain": [
       "'Data for protrusion analysis_3'"
      ]
     },
     "execution_count": 7,
     "metadata": {},
     "output_type": "execute_result"
    }
   ],
   "source": [
    "imaris_file = vImaris.GetCurrentFileName()\n",
    "imaris_file.split('\\\\')[-1].split('.')[0]"
   ]
  },
  {
   "cell_type": "markdown",
   "metadata": {},
   "source": [
    "## Get Statistics"
   ]
  },
  {
   "cell_type": "code",
   "execution_count": 8,
   "metadata": {},
   "outputs": [],
   "source": [
    "from cvbi.base_imaris.stats import GetSurpassObjects,get_imaris_statistics"
   ]
  },
  {
   "cell_type": "code",
   "execution_count": 23,
   "metadata": {},
   "outputs": [
    {
     "data": {
      "text/plain": [
       "{'Cell Surface V9': a6d58091-36b7-492a-b045-4113b61ca404 -t -e 1.0:tcp -h 172.19.244.153 -p 57535 -t 60000}"
      ]
     },
     "execution_count": 23,
     "metadata": {},
     "output_type": "execute_result"
    }
   ],
   "source": [
    "objects = GetSurpassObjects(vImaris=vImaris,search='surfaces')\n",
    "\n",
    "objects"
   ]
  },
  {
   "cell_type": "code",
   "execution_count": 24,
   "metadata": {},
   "outputs": [],
   "source": [
    "df = get_imaris_statistics(vImaris=vImaris, object_type='surfaces', object_name='Cell Surface V9')"
   ]
  },
  {
   "cell_type": "code",
   "execution_count": 25,
   "metadata": {},
   "outputs": [
    {
     "data": {
      "text/html": [
       "<div>\n",
       "<style scoped>\n",
       "    .dataframe tbody tr th:only-of-type {\n",
       "        vertical-align: middle;\n",
       "    }\n",
       "\n",
       "    .dataframe tbody tr th {\n",
       "        vertical-align: top;\n",
       "    }\n",
       "\n",
       "    .dataframe thead th {\n",
       "        text-align: right;\n",
       "    }\n",
       "</style>\n",
       "<table border=\"1\" class=\"dataframe\">\n",
       "  <thead>\n",
       "    <tr style=\"text-align: right;\">\n",
       "      <th>names</th>\n",
       "      <th>trackID</th>\n",
       "      <th>objectID</th>\n",
       "      <th>Acceleration</th>\n",
       "      <th>Acceleration X</th>\n",
       "      <th>Acceleration Y</th>\n",
       "      <th>Acceleration Z</th>\n",
       "      <th>Area</th>\n",
       "      <th>BoundingBoxAA Length X</th>\n",
       "      <th>BoundingBoxAA Length Y</th>\n",
       "      <th>BoundingBoxAA Length Z</th>\n",
       "      <th>...</th>\n",
       "      <th>Time Index</th>\n",
       "      <th>Time Since Track Start</th>\n",
       "      <th>Velocity Angle X</th>\n",
       "      <th>Velocity Angle Y</th>\n",
       "      <th>Velocity Angle Z</th>\n",
       "      <th>Velocity X</th>\n",
       "      <th>Velocity Y</th>\n",
       "      <th>Velocity Z</th>\n",
       "      <th>Volume</th>\n",
       "      <th>time</th>\n",
       "    </tr>\n",
       "  </thead>\n",
       "  <tbody>\n",
       "    <tr>\n",
       "      <th>0</th>\n",
       "      <td>1000007814</td>\n",
       "      <td>7814</td>\n",
       "      <td>0.000000</td>\n",
       "      <td>0.000000</td>\n",
       "      <td>0.000000</td>\n",
       "      <td>0.0</td>\n",
       "      <td>380.147614</td>\n",
       "      <td>11.054688</td>\n",
       "      <td>12.160156</td>\n",
       "      <td>2.0</td>\n",
       "      <td>...</td>\n",
       "      <td>1.0</td>\n",
       "      <td>0.000000</td>\n",
       "      <td>126.873642</td>\n",
       "      <td>36.870987</td>\n",
       "      <td>90.002655</td>\n",
       "      <td>-0.000783</td>\n",
       "      <td>0.001045</td>\n",
       "      <td>0.0</td>\n",
       "      <td>169.959457</td>\n",
       "      <td>1.0</td>\n",
       "    </tr>\n",
       "    <tr>\n",
       "      <th>1</th>\n",
       "      <td>1000007814</td>\n",
       "      <td>7815</td>\n",
       "      <td>0.000036</td>\n",
       "      <td>-0.000013</td>\n",
       "      <td>-0.000033</td>\n",
       "      <td>0.0</td>\n",
       "      <td>382.282623</td>\n",
       "      <td>10.652344</td>\n",
       "      <td>12.558594</td>\n",
       "      <td>2.0</td>\n",
       "      <td>...</td>\n",
       "      <td>2.0</td>\n",
       "      <td>59.834999</td>\n",
       "      <td>171.124390</td>\n",
       "      <td>81.121735</td>\n",
       "      <td>90.002655</td>\n",
       "      <td>-0.001117</td>\n",
       "      <td>0.000174</td>\n",
       "      <td>0.0</td>\n",
       "      <td>177.417694</td>\n",
       "      <td>2.0</td>\n",
       "    </tr>\n",
       "  </tbody>\n",
       "</table>\n",
       "<p>2 rows × 71 columns</p>\n",
       "</div>"
      ],
      "text/plain": [
       "names     trackID objectID  Acceleration  Acceleration X  Acceleration Y  \\\n",
       "0      1000007814     7814      0.000000        0.000000        0.000000   \n",
       "1      1000007814     7815      0.000036       -0.000013       -0.000033   \n",
       "\n",
       "names  Acceleration Z        Area  BoundingBoxAA Length X  \\\n",
       "0                 0.0  380.147614               11.054688   \n",
       "1                 0.0  382.282623               10.652344   \n",
       "\n",
       "names  BoundingBoxAA Length Y  BoundingBoxAA Length Z  ...   Time Index  \\\n",
       "0                   12.160156                     2.0  ...          1.0   \n",
       "1                   12.558594                     2.0  ...          2.0   \n",
       "\n",
       "names  Time Since Track Start  Velocity Angle X  Velocity Angle Y  \\\n",
       "0                    0.000000        126.873642         36.870987   \n",
       "1                   59.834999        171.124390         81.121735   \n",
       "\n",
       "names  Velocity Angle Z  Velocity X  Velocity Y  Velocity Z      Volume  time  \n",
       "0             90.002655   -0.000783    0.001045         0.0  169.959457   1.0  \n",
       "1             90.002655   -0.001117    0.000174         0.0  177.417694   2.0  \n",
       "\n",
       "[2 rows x 71 columns]"
      ]
     },
     "execution_count": 25,
     "metadata": {},
     "output_type": "execute_result"
    }
   ],
   "source": [
    "df.head(2)"
   ]
  },
  {
   "cell_type": "code",
   "execution_count": 26,
   "metadata": {},
   "outputs": [
    {
     "data": {
      "text/plain": [
       "array(['1000007814', '1000007825', '1000007829', '1000007917',\n",
       "       '1000007940'], dtype=object)"
      ]
     },
     "execution_count": 26,
     "metadata": {},
     "output_type": "execute_result"
    }
   ],
   "source": [
    "df.trackID.unique()"
   ]
  },
  {
   "cell_type": "markdown",
   "metadata": {},
   "source": [
    "## Get Surface voxel Coordinates"
   ]
  },
  {
   "cell_type": "code",
   "execution_count": 27,
   "metadata": {},
   "outputs": [],
   "source": [
    "selected = objects['Cell Surface V9']"
   ]
  },
  {
   "cell_type": "code",
   "execution_count": 88,
   "metadata": {},
   "outputs": [
    {
     "data": {
      "text/plain": [
       "(55402.76171875, 55413.81640625)"
      ]
     },
     "execution_count": 88,
     "metadata": {},
     "output_type": "execute_result"
    }
   ],
   "source": [
    "selected_surface_data.GetExtendMinX(),selected_surface_data.GetExtendMaxX()"
   ]
  },
  {
   "cell_type": "code",
   "execution_count": 86,
   "metadata": {},
   "outputs": [
    {
     "data": {
      "image/png": "[encoded data removed]",
      "text/plain": [
       "<Figure size 432x288 with 1 Axes>"
      ]
     },
     "metadata": {
      "needs_background": "light"
     },
     "output_type": "display_data"
    }
   ],
   "source": [
    "selected_surface_data = selected.GetSurfaceData(0)\n",
    "a = selected_surface_data.GetDataVolumeFloats(aIndexC=0,aIndexT=0)\n",
    "a = np.array(a)\n",
    "\n",
    "\n",
    "plt.imshow(a[...,1]>32700, cmap='hot');"
   ]
  },
  {
   "cell_type": "code",
   "execution_count": 36,
   "metadata": {
    "scrolled": true
   },
   "outputs": [
    {
     "data": {
      "text/plain": [
       "(82, 77)"
      ]
     },
     "execution_count": 36,
     "metadata": {},
     "output_type": "execute_result"
    }
   ],
   "source": [
    "len(selected.GetIds()),len(selected.GetTrackIds())"
   ]
  },
  {
   "cell_type": "code",
   "execution_count": null,
   "metadata": {},
   "outputs": [],
   "source": [
    "selected.GetSurfaceData()"
   ]
  },
  {
   "cell_type": "code",
   "execution_count": null,
   "metadata": {},
   "outputs": [],
   "source": []
  }
 ],
 "metadata": {
  "kernelspec": {
   "display_name": "Python27",
   "language": "python",
   "name": "python27"
  },
  "language_info": {
   "codemirror_mode": {
    "name": "ipython",
    "version": 2
   },
   "file_extension": ".py",
   "mimetype": "text/x-python",
   "name": "python",
   "nbconvert_exporter": "python",
   "pygments_lexer": "ipython2",
   "version": "2.7.15"
  }
 },
 "nbformat": 4,
 "nbformat_minor": 2
}
