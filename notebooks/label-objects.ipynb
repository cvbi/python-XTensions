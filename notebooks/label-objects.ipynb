{
 "cells": [
  {
   "cell_type": "code",
   "execution_count": 10,
   "metadata": {},
   "outputs": [],
   "source": [
    "import os\n",
    "import sys"
   ]
  },
  {
   "cell_type": "code",
   "execution_count": 2,
   "metadata": {},
   "outputs": [],
   "source": [
    "xtensions  = 'D:\\\\Box Sync\\\\projects\\\\bio-imaging\\\\imaris-XTensions\\\\python-XTensions'\n",
    "imaris_lib = 'C:\\\\Program Files\\\\Bitplane\\\\Imaris x64 9.2.1\\\\XT\\\\python'\n",
    "\n",
    "sys.path.insert(0,imaris_lib)\n",
    "sys.path.insert(1,xtensions)"
   ]
  },
  {
   "cell_type": "code",
   "execution_count": 3,
   "metadata": {},
   "outputs": [],
   "source": [
    "import ImarisLib"
   ]
  },
  {
   "cell_type": "code",
   "execution_count": 4,
   "metadata": {},
   "outputs": [
    {
     "name": "stdout",
     "output_type": "stream",
     "text": [
      "Populating the interactive namespace from numpy and matplotlib\n"
     ]
    }
   ],
   "source": [
    "%pylab inline"
   ]
  },
  {
   "cell_type": "code",
   "execution_count": 5,
   "metadata": {},
   "outputs": [],
   "source": [
    "def GetObjectId():\n",
    "    \n",
    "    \n",
    "    vImarisLib = ImarisLib.ImarisLib()\n",
    "    vServer = vImarisLib.GetServer()\n",
    "    vNumberOfObjects = vServer.GetNumberOfObjects()\n",
    "    \n",
    "    for vIndex in range(vNumberOfObjects):\n",
    "        vObjectId = vServer.GetObjectID(vIndex)\n",
    "        return vObjectId; # work with the ID (return first one)\n",
    "    \n",
    "    return -1 # invalid id"
   ]
  },
  {
   "cell_type": "code",
   "execution_count": 6,
   "metadata": {},
   "outputs": [],
   "source": [
    "aImarisId = GetObjectId()\n",
    "vImarisLib = ImarisLib.ImarisLib()\n",
    "vImaris = vImarisLib.GetApplication(aImarisId)\n",
    "vDataSet = vImaris.GetDataSet()"
   ]
  },
  {
   "cell_type": "code",
   "execution_count": 11,
   "metadata": {},
   "outputs": [],
   "source": [
    "imaris_file = vImaris.GetCurrentFileName()\n",
    "imaris_dir = os.path.dirname(imaris_file)\n",
    "imaris_name = os.path.basename(imaris_file)"
   ]
  },
  {
   "cell_type": "markdown",
   "metadata": {},
   "source": [
    "## Get Volume Data"
   ]
  },
  {
   "cell_type": "code",
   "execution_count": 14,
   "metadata": {},
   "outputs": [],
   "source": [
    "data_list  = vDataSet.GetDataVolumeFloats(aIndexC=0, aIndexT=0)\n",
    "data_array = np.array(data_list)"
   ]
  },
  {
   "cell_type": "code",
   "execution_count": 17,
   "metadata": {},
   "outputs": [],
   "source": [
    "from cvbi.base_imaris.stats import get_imaris_statistics"
   ]
  },
  {
   "cell_type": "code",
   "execution_count": 19,
   "metadata": {},
   "outputs": [],
   "source": [
    "data_stats = get_imaris_statistics(vImaris=vImaris, object_type='surfaces', object_name='CXCL10 cells')"
   ]
  },
  {
   "cell_type": "code",
   "execution_count": 21,
   "metadata": {},
   "outputs": [
    {
     "data": {
      "text/html": [
       "<div>\n",
       "<style scoped>\n",
       "    .dataframe tbody tr th:only-of-type {\n",
       "        vertical-align: middle;\n",
       "    }\n",
       "\n",
       "    .dataframe tbody tr th {\n",
       "        vertical-align: top;\n",
       "    }\n",
       "\n",
       "    .dataframe thead th {\n",
       "        text-align: right;\n",
       "    }\n",
       "</style>\n",
       "<table border=\"1\" class=\"dataframe\">\n",
       "  <thead>\n",
       "    <tr style=\"text-align: right;\">\n",
       "      <th>names</th>\n",
       "      <th>trackID</th>\n",
       "      <th>objectID</th>\n",
       "      <th>Acceleration</th>\n",
       "      <th>Acceleration X</th>\n",
       "      <th>Acceleration Y</th>\n",
       "      <th>Acceleration Z</th>\n",
       "      <th>Area</th>\n",
       "      <th>BoundingBoxAA Length X</th>\n",
       "      <th>BoundingBoxAA Length Y</th>\n",
       "      <th>BoundingBoxAA Length Z</th>\n",
       "      <th>...</th>\n",
       "      <th>Time Since Track Start</th>\n",
       "      <th>Velocity Angle X</th>\n",
       "      <th>Velocity Angle Y</th>\n",
       "      <th>Velocity Angle Z</th>\n",
       "      <th>Velocity X</th>\n",
       "      <th>Velocity Y</th>\n",
       "      <th>Velocity Z</th>\n",
       "      <th>Volume</th>\n",
       "      <th>time</th>\n",
       "      <th>track_time</th>\n",
       "    </tr>\n",
       "  </thead>\n",
       "  <tbody>\n",
       "    <tr>\n",
       "      <th>0</th>\n",
       "      <td>1000016740</td>\n",
       "      <td>16740</td>\n",
       "      <td>0.000000</td>\n",
       "      <td>0.000000</td>\n",
       "      <td>0.000000</td>\n",
       "      <td>0.000000</td>\n",
       "      <td>963.449524</td>\n",
       "      <td>20.874023</td>\n",
       "      <td>19.880005</td>\n",
       "      <td>21.0</td>\n",
       "      <td>...</td>\n",
       "      <td>0.000000</td>\n",
       "      <td>153.024872</td>\n",
       "      <td>67.184669</td>\n",
       "      <td>76.384239</td>\n",
       "      <td>-0.017980</td>\n",
       "      <td>0.007824</td>\n",
       "      <td>0.004750</td>\n",
       "      <td>1947.886963</td>\n",
       "      <td>1.0</td>\n",
       "      <td>0.000000</td>\n",
       "    </tr>\n",
       "    <tr>\n",
       "      <th>1</th>\n",
       "      <td>1000016740</td>\n",
       "      <td>17136</td>\n",
       "      <td>0.000833</td>\n",
       "      <td>-0.000183</td>\n",
       "      <td>0.000535</td>\n",
       "      <td>-0.000612</td>\n",
       "      <td>1078.757935</td>\n",
       "      <td>27.832001</td>\n",
       "      <td>21.867996</td>\n",
       "      <td>21.0</td>\n",
       "      <td>...</td>\n",
       "      <td>77.776001</td>\n",
       "      <td>126.136169</td>\n",
       "      <td>47.750999</td>\n",
       "      <td>116.584534</td>\n",
       "      <td>-0.025097</td>\n",
       "      <td>0.028618</td>\n",
       "      <td>-0.019045</td>\n",
       "      <td>1980.422119</td>\n",
       "      <td>2.0</td>\n",
       "      <td>77.776001</td>\n",
       "    </tr>\n",
       "    <tr>\n",
       "      <th>2</th>\n",
       "      <td>1000016740</td>\n",
       "      <td>17476</td>\n",
       "      <td>0.000897</td>\n",
       "      <td>0.000028</td>\n",
       "      <td>-0.000588</td>\n",
       "      <td>0.000677</td>\n",
       "      <td>653.832397</td>\n",
       "      <td>16.897980</td>\n",
       "      <td>11.928009</td>\n",
       "      <td>24.0</td>\n",
       "      <td>...</td>\n",
       "      <td>155.552002</td>\n",
       "      <td>134.868484</td>\n",
       "      <td>53.000484</td>\n",
       "      <td>111.989708</td>\n",
       "      <td>-0.031117</td>\n",
       "      <td>0.026547</td>\n",
       "      <td>-0.016514</td>\n",
       "      <td>1143.684448</td>\n",
       "      <td>3.0</td>\n",
       "      <td>155.552002</td>\n",
       "    </tr>\n",
       "    <tr>\n",
       "      <th>3</th>\n",
       "      <td>1000016740</td>\n",
       "      <td>17831</td>\n",
       "      <td>0.000250</td>\n",
       "      <td>-0.000035</td>\n",
       "      <td>0.000109</td>\n",
       "      <td>-0.000222</td>\n",
       "      <td>878.184753</td>\n",
       "      <td>28.825989</td>\n",
       "      <td>12.922012</td>\n",
       "      <td>24.0</td>\n",
       "      <td>...</td>\n",
       "      <td>233.328003</td>\n",
       "      <td>165.654053</td>\n",
       "      <td>75.809776</td>\n",
       "      <td>87.919922</td>\n",
       "      <td>-0.031372</td>\n",
       "      <td>0.007939</td>\n",
       "      <td>0.001177</td>\n",
       "      <td>1435.555786</td>\n",
       "      <td>4.0</td>\n",
       "      <td>233.328003</td>\n",
       "    </tr>\n",
       "    <tr>\n",
       "      <th>4</th>\n",
       "      <td>1000016740</td>\n",
       "      <td>18178</td>\n",
       "      <td>0.000297</td>\n",
       "      <td>0.000264</td>\n",
       "      <td>-0.000087</td>\n",
       "      <td>0.000106</td>\n",
       "      <td>777.243652</td>\n",
       "      <td>22.862000</td>\n",
       "      <td>9.940002</td>\n",
       "      <td>24.0</td>\n",
       "      <td>...</td>\n",
       "      <td>311.104004</td>\n",
       "      <td>157.274658</td>\n",
       "      <td>68.811508</td>\n",
       "      <td>97.848915</td>\n",
       "      <td>-0.022466</td>\n",
       "      <td>0.008805</td>\n",
       "      <td>-0.003325</td>\n",
       "      <td>1283.132812</td>\n",
       "      <td>5.0</td>\n",
       "      <td>311.104004</td>\n",
       "    </tr>\n",
       "  </tbody>\n",
       "</table>\n",
       "<p>5 rows × 72 columns</p>\n",
       "</div>"
      ],
      "text/plain": [
       "names     trackID objectID  Acceleration  Acceleration X  Acceleration Y  \\\n",
       "0      1000016740    16740      0.000000        0.000000        0.000000   \n",
       "1      1000016740    17136      0.000833       -0.000183        0.000535   \n",
       "2      1000016740    17476      0.000897        0.000028       -0.000588   \n",
       "3      1000016740    17831      0.000250       -0.000035        0.000109   \n",
       "4      1000016740    18178      0.000297        0.000264       -0.000087   \n",
       "\n",
       "names  Acceleration Z         Area  BoundingBoxAA Length X  \\\n",
       "0            0.000000   963.449524               20.874023   \n",
       "1           -0.000612  1078.757935               27.832001   \n",
       "2            0.000677   653.832397               16.897980   \n",
       "3           -0.000222   878.184753               28.825989   \n",
       "4            0.000106   777.243652               22.862000   \n",
       "\n",
       "names  BoundingBoxAA Length Y  BoundingBoxAA Length Z  ...  \\\n",
       "0                   19.880005                    21.0  ...   \n",
       "1                   21.867996                    21.0  ...   \n",
       "2                   11.928009                    24.0  ...   \n",
       "3                   12.922012                    24.0  ...   \n",
       "4                    9.940002                    24.0  ...   \n",
       "\n",
       "names  Time Since Track Start  Velocity Angle X  Velocity Angle Y  \\\n",
       "0                    0.000000        153.024872         67.184669   \n",
       "1                   77.776001        126.136169         47.750999   \n",
       "2                  155.552002        134.868484         53.000484   \n",
       "3                  233.328003        165.654053         75.809776   \n",
       "4                  311.104004        157.274658         68.811508   \n",
       "\n",
       "names  Velocity Angle Z  Velocity X  Velocity Y  Velocity Z       Volume  \\\n",
       "0             76.384239   -0.017980    0.007824    0.004750  1947.886963   \n",
       "1            116.584534   -0.025097    0.028618   -0.019045  1980.422119   \n",
       "2            111.989708   -0.031117    0.026547   -0.016514  1143.684448   \n",
       "3             87.919922   -0.031372    0.007939    0.001177  1435.555786   \n",
       "4             97.848915   -0.022466    0.008805   -0.003325  1283.132812   \n",
       "\n",
       "names  time  track_time  \n",
       "0       1.0    0.000000  \n",
       "1       2.0   77.776001  \n",
       "2       3.0  155.552002  \n",
       "3       4.0  233.328003  \n",
       "4       5.0  311.104004  \n",
       "\n",
       "[5 rows x 72 columns]"
      ]
     },
     "execution_count": 21,
     "metadata": {},
     "output_type": "execute_result"
    }
   ],
   "source": [
    "data_stats.head()"
   ]
  },
  {
   "cell_type": "code",
   "execution_count": 27,
   "metadata": {},
   "outputs": [],
   "source": [
    "surface_selected = vImaris.GetSurpassSelection()"
   ]
  }
 ],
 "metadata": {
  "kernelspec": {
   "display_name": "Python27",
   "language": "python",
   "name": "python27"
  },
  "language_info": {
   "codemirror_mode": {
    "name": "ipython",
    "version": 2
   },
   "file_extension": ".py",
   "mimetype": "text/x-python",
   "name": "python",
   "nbconvert_exporter": "python",
   "pygments_lexer": "ipython2",
   "version": "2.7.15"
  }
 },
 "nbformat": 4,
 "nbformat_minor": 2
}
